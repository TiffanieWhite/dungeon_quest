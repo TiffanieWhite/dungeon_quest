{
 "cells": [
  {
   "cell_type": "markdown",
   "id": "54471718",
   "metadata": {},
   "source": [
    "# Dungeon Adventure Game - Instructions\n",
    "\n",
    "In this exercise, you will build a text-based dungeon adventure game in Python.\n",
    "\n",
    "You will apply everything you've learned so far, including:\n",
    "- Variables\n",
    "- Operators\n",
    "- Lists\n",
    "- Dictionaries\n",
    "- Loops\n",
    "- Conditionals\n",
    "- The `random` module\n",
    "\n",
    "Follow the prompts in each section to build your game step by step. By the end, you will have a fully functioning game where the player can explore rooms, search for treasure, avoid traps, and see their final score based on the treasures collected.\n",
    "\n",
    "Complete each section before moving on to the next.\n"
   ]
  },
  {
   "cell_type": "code",
   "execution_count": null,
   "id": "eee84ad5",
   "metadata": {},
   "outputs": [],
   "source": [
    "# Step 1: Player Setup\n",
    "# Prompt the player for their name.\n",
    "# Set health to 10.\n",
    "# Create an empty list to store their inventory.\n",
    "import pygame\n",
    "player1 = input(\"Enter your name: \")\n",
    "health = 10\n",
    "inventory = []\n",
    "\n"
   ]
  },
  {
   "cell_type": "code",
   "execution_count": null,
   "id": "3a0aecec",
   "metadata": {},
   "outputs": [],
   "source": [
    "# Step 2: Treasure Dictionary\n",
    "# Create a dictionary of treasures where the keys are treasure names\n",
    "# and the values are the gold value of each treasure.\n",
    "treasures = {\n",
    "    \"gold_coin\": 10,\n",
    "    \"silver_coin\": 5,\n",
    "    \"diamond\": 50,\n",
    "    \"ruby\": 30,\n",
    "    \"emerald\": 40\n",
    "}\n"
   ]
  },
  {
   "cell_type": "code",
   "execution_count": null,
   "id": "1a24ddaf",
   "metadata": {},
   "outputs": [],
   "source": [
    "# Step 3: Game Loop - Moving through 5 rooms\n",
    "# Use a for loop to represent rooms 1 to 5.\n",
    "# In each room, display the current room number and the options:\n",
    "# 1. Search for treasure\n",
    "# 2. Move to next room\n",
    "# 3. Check health and inventory\n",
    "# 4. Quit the game\n",
    "# Make sure to handle each option appropriately.\n",
    "for room in range(1,6):\n",
    "    print(f\"\\nYou are in room {room}.\")\n",
    "    print(\"Options:\")\n",
    "    print(\"1. Search for treasure\")\n",
    "    print(\"2. Move to next room\")\n",
    "    print(\"3. Check health and inventory\")\n",
    "    print(\"4. Quit the game\")\n",
    "    choice = input(\"Choose an option (1-4): \")\n",
    "\n",
    "\n",
    "# Step 4: Implement treasure search\n",
    "# If the player chooses to search, randomly decide if they find treasure or a trap.\n",
    "# If treasure, randomly pick from the treasure dictionary and add to inventory.\n",
    "# If trap, deduct 2 health points and print a message.\n",
    "    if choice == '1':\n",
    "        import random\n",
    "        if random.choice([True, False]):  # Randomly decide if treasure is found\n",
    "            treasure = random.choice(list(treasures.keys()))\n",
    "            inventory.append(treasure)\n",
    "            print(f\"You found a {treasure} worth {treasures[treasure]} gold!\")\n",
    "        else:\n",
    "            health -= 2\n",
    "            print(\"You fell into a trap! You lost 2 health points.\")\n",
    "    \n",
    "    # Step 4: Move to next room\n",
    "    elif choice == '2':\n",
    "        continue\n",
    "    \n",
    "    # Step 5: Check health and inventory\n",
    "    elif choice == '3':\n",
    "        print(f\"Health: {health}\")\n",
    "        print(f\"Inventory: {inventory}\")\n",
    "    \n",
    "    # Step 6: Quit the game\n",
    "    elif choice == '4':\n",
    "        print(\"Thanks for playing!\")\n",
    "        break\n",
    "    \n",
    "    else:\n",
    "        print(\"Invalid option. Please choose again.\")\n",
    "\n",
    "\n",
    "# Step 5: Check health\n",
    "# If health drops to 0 or below, print a Game Over message and break the loop."
   ]
  },
  {
   "cell_type": "code",
   "execution_count": null,
   "id": "39cc69d2",
   "metadata": {},
   "outputs": [],
   "source": [
    "# Step 6: End of Game Summary\n",
    "# If the player quits or finishes all rooms, calculate the total value of the collected treasures.\n",
    "# Loop through the inventory and sum the gold value using the treasure dictionary.\n",
    "# Print the final health, inventory, and total treasure value.\n",
    "if health <= 0:\n",
    "        print(\"Game Over! You have no health left.\")\n",
    "        break\n",
    "total_value = sum(treasures[item] for item in inventory)\n",
    "print(f\"\\nGame Over! Your final health is {health}.\")\n",
    "print(f\"Your inventory: {inventory}\")\n",
    "print(f\"Total treasure value: {total_value} gold.\")\n",
    "\n"
   ]
  }
 ],
 "metadata": {
  "kernelspec": {
   "display_name": "Python 3",
   "language": "python",
   "name": "python3"
  },
  "language_info": {
   "name": "python",
   "version": "3.13.5"
  }
 },
 "nbformat": 4,
 "nbformat_minor": 5
}
